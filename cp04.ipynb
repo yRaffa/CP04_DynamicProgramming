{
 "cells": [
  {
   "cell_type": "markdown",
   "id": "5087648b",
   "metadata": {},
   "source": [
    "# **📄 Checkpoint 4 – Dynamic Programming**\n",
    "## 🔎 Contexto: COP30 – Belém, Brasil\n",
    "\n",
    "> Rafael Federici de Oliveira | RM: 554736\n",
    "\n",
    "### **🎯 Objetivo:**\n",
    "Comparar três soluções com diferentes tipos de algoritmos:\n",
    "- Brute Force\n",
    "- Divide & Conquer\n",
    "- Dynamic Programming\n",
    "\n",
    "Aplicados em dois desafios:\n",
    "\n",
    "**🎒 DESAFIO 1:** Seleção de Projetos de Mitigação (Knapsack)\n",
    "\n",
    "**🧠 DESAFIO 2:** Janela de Qualidade do Ar (Máxima Soma Contígua)"
   ]
  },
  {
   "cell_type": "markdown",
   "id": "6ce8bd16",
   "metadata": {},
   "source": [
    "## **⬇️ IMPORTS:**"
   ]
  },
  {
   "cell_type": "code",
   "execution_count": null,
   "id": "02233062",
   "metadata": {},
   "outputs": [],
   "source": [
    "from desafio1.runner import executar_d1\n",
    "from desafio2.runner import executar_d2\n",
    "from utils import gerar_testes_d1, gerar_testes_d2, grafico_tempo, grafico_memoria\n",
    "import pandas as pd\n"
   ]
  },
  {
   "cell_type": "markdown",
   "id": "0c75beb5",
   "metadata": {},
   "source": [
    "## **🎒 DESAFIO 1:** Seleção de Projetos de Mitigação"
   ]
  },
  {
   "cell_type": "code",
   "execution_count": null,
   "id": "190d4312",
   "metadata": {},
   "outputs": [],
   "source": [
    "orcamento = 30\n",
    "n_projetos = [10, 15, 20, 25]\n",
    "resultados_d1 = []\n",
    "\n",
    "# Executa os testes do Desafio 1\n",
    "for i in n_projetos:\n",
    "    projetos = gerar_testes_d1(i)\n",
    "    resultado = executar_d1(projetos, orcamento)\n",
    "    resultados_d1.append({'numero_de_projetos': i, **resultado})\n",
    "\n",
    "df_d1 = pd.DataFrame(resultados_d1) # Define DataFrame para os resultados do Desafio 1\n",
    "# Plotar gráficos de desempenho do Desafio 1\n",
    "grafico_tempo(df_d1, 'Desafio 1 – Tempo de execução (ms)')\n",
    "grafico_memoria(df_d1, 'Desafio 1 – Uso de memória (KB)')\n"
   ]
  },
  {
   "cell_type": "markdown",
   "id": "53817597",
   "metadata": {},
   "source": [
    "## **🧠 DESAFIO 2:** Janela de Qualidade do Ar"
   ]
  },
  {
   "cell_type": "code",
   "execution_count": null,
   "id": "bedc6a09",
   "metadata": {},
   "outputs": [],
   "source": [
    "tamanho_serie = [200, 400, 800, 1600]\n",
    "resultados_d2 = []\n",
    "\n",
    "# Executa os testes do Desafio 2\n",
    "for i in tamanho_serie:\n",
    "    dias = gerar_testes_d2(i)\n",
    "    resultado = executar_d2(dias)\n",
    "    resultados_d2.append({'tamanho_serie': i, **resultado})\n",
    "\n",
    "df_d2 = pd.DataFrame(resultados_d2) # Define DataFrame para os resultados do Desafio 2\n",
    "# Plotar gráficos de desempenho do Desafio 2\n",
    "grafico_tempo(df_d2, 'Desafio 2 – Tempo de execução (ms)')\n",
    "grafico_memoria(df_d2, 'Desafio 2 – Uso de memória (KB)')\n"
   ]
  },
  {
   "cell_type": "markdown",
   "id": "360974ae",
   "metadata": {},
   "source": [
    "## **💡 CONCLUSÃO:**\n",
    "\n",
    "### Resultados dos algoritimos:\n",
    "- **Brute Force:** Busca o melhor resustado possível, porém escala exponencialmente e se torna inviável em `n` grandes.\n",
    "- **Divide & Conquer:** É a solução intermediária, porém pode pesar em casos específicos.\n",
    "- **Dynamic Programming:** Mais eficiente e escalável, devido ao uso de `Memorização`."
   ]
  }
 ],
 "metadata": {
  "kernelspec": {
   "display_name": "Python 3",
   "language": "python",
   "name": "python3"
  },
  "language_info": {
   "codemirror_mode": {
    "name": "ipython",
    "version": 3
   },
   "file_extension": ".py",
   "mimetype": "text/x-python",
   "name": "python",
   "nbconvert_exporter": "python",
   "pygments_lexer": "ipython3",
   "version": "3.11.9"
  }
 },
 "nbformat": 4,
 "nbformat_minor": 5
}
